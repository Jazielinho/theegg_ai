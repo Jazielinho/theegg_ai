{
 "cells": [
  {
   "cell_type": "markdown",
   "metadata": {},
   "source": [
    "# TAREA 45"
   ]
  },
  {
   "cell_type": "code",
   "execution_count": 1,
   "metadata": {},
   "outputs": [
    {
     "data": {
      "text/plain": [
       "'\\nCreated on 11 feb. 2021\\n@author: jazielinho\\n'"
      ]
     },
     "execution_count": 1,
     "metadata": {},
     "output_type": "execute_result"
    }
   ],
   "source": [
    "'''\n",
    "Created on 11 feb. 2021\n",
    "@author: jazielinho\n",
    "'''"
   ]
  },
  {
   "cell_type": "code",
   "execution_count": 2,
   "metadata": {},
   "outputs": [],
   "source": [
    "from typing import List\n",
    "import random"
   ]
  },
  {
   "cell_type": "code",
   "execution_count": 3,
   "metadata": {},
   "outputs": [],
   "source": [
    "lista = [3, 56, 21, 33, 874, 123, 66, 1000, 23, 45, 65, 56]"
   ]
  },
  {
   "cell_type": "code",
   "execution_count": 4,
   "metadata": {},
   "outputs": [],
   "source": [
    "numero = 875"
   ]
  },
  {
   "cell_type": "code",
   "execution_count": 5,
   "metadata": {},
   "outputs": [],
   "source": [
    "def quick_sort(lista: List) -> List:\n",
    "    lista_menores = []\n",
    "    lista_iguales = []\n",
    "    lista_mayores = []\n",
    "\n",
    "    if len(lista) > 1:\n",
    "        # elegimos un elemento pivote\n",
    "        pivote = random.choice(lista)\n",
    "\n",
    "        for x in lista:\n",
    "            if x < pivote:\n",
    "                lista_menores.append(x)\n",
    "            elif x == pivote:\n",
    "                lista_iguales.append(x)\n",
    "            else:\n",
    "                lista_mayores.append(x)\n",
    "                \n",
    "        return quick_sort(lista_menores) + lista_iguales + quick_sort(lista_mayores)\n",
    "    else:\n",
    "        return lista\n"
   ]
  },
  {
   "cell_type": "code",
   "execution_count": 6,
   "metadata": {},
   "outputs": [],
   "source": [
    "lista_ordenada = quick_sort(lista=lista)"
   ]
  },
  {
   "cell_type": "code",
   "execution_count": 7,
   "metadata": {},
   "outputs": [
    {
     "data": {
      "text/plain": [
       "[3, 21, 23, 33, 45, 56, 56, 65, 66, 123, 874, 1000]"
      ]
     },
     "execution_count": 7,
     "metadata": {},
     "output_type": "execute_result"
    }
   ],
   "source": [
    "lista_ordenada"
   ]
  },
  {
   "cell_type": "markdown",
   "metadata": {},
   "source": [
    "## Algoritmo de búsqueda"
   ]
  },
  {
   "cell_type": "markdown",
   "metadata": {},
   "source": [
    "### Búsqueda secuencial"
   ]
  },
  {
   "cell_type": "code",
   "execution_count": 8,
   "metadata": {},
   "outputs": [],
   "source": [
    "def busqueda_secuencial(lista: List, numero: float) -> bool:\n",
    "    ''' verifica si el numero está en la lista usando una búsqueda lineal '''\n",
    "    # Ordenamos la lista\n",
    "    lista_ordenada = quick_sort(lista=lista)\n",
    "    # Empezamos a contar\n",
    "    pasos = 0\n",
    "    encontrado = False\n",
    "    \n",
    "    while encontrado is False and pasos < len(lista_ordenada):\n",
    "        # Si no encontramos el numero\n",
    "        # comparamos cada elemento hasta quedarnos con el ultimo\n",
    "        pasos += 1\n",
    "        if lista_ordenada[pasos - 1] == numero:\n",
    "            # Si encontramos el numero, detenemos\n",
    "            encontrado = True\n",
    "\n",
    "    # Mostramos un mensaje\n",
    "    if encontrado:\n",
    "        print(f\"{numero} encontrado\")\n",
    "    else:\n",
    "        print(f\"{numero} no encontrado\")\n",
    "    print(f\"Numero de pasos totales: {pasos}\")"
   ]
  },
  {
   "cell_type": "code",
   "execution_count": 9,
   "metadata": {},
   "outputs": [
    {
     "name": "stdout",
     "output_type": "stream",
     "text": [
      "875 no encontrado\n",
      "Numero de pasos totales: 12\n"
     ]
    }
   ],
   "source": [
    "busqueda_secuencial(lista=lista, numero=numero)"
   ]
  },
  {
   "cell_type": "markdown",
   "metadata": {},
   "source": [
    "### Búsqueda binaria"
   ]
  },
  {
   "cell_type": "code",
   "execution_count": 10,
   "metadata": {},
   "outputs": [],
   "source": [
    "def busqueda_binaria(lista: List, numero: float) -> bool:\n",
    "    ''' verifica si el numero está en la lista usando una búsqueda lineal '''\n",
    "    # Ordenamos la lista\n",
    "    lista_ordenada = quick_sort(lista=lista)\n",
    "    \n",
    "    pasos = 0\n",
    "\n",
    "    primero = 0\n",
    "    ultimo = len(lista_ordenada)\n",
    "    encontrado = False\n",
    "    \n",
    "    while primero <= ultimo and not encontrado:\n",
    "        # Empezamos eligiendo el elemento en la ubicacion media\n",
    "        pasos += 1\n",
    "        punto_medio = (primero + ultimo) // 2\n",
    "        \n",
    "        if lista_ordenada[punto_medio] == numero:\n",
    "            encontrado = True\n",
    "        else:\n",
    "            if numero < lista_ordenada[punto_medio]:\n",
    "                ultimo = punto_medio - 1\n",
    "            else:\n",
    "                primero = punto_medio + 1\n",
    "    \n",
    "    if encontrado:\n",
    "        print(f\"{numero} encontrado\")\n",
    "    else:\n",
    "        print(f\"{numero} no encontrado\")\n",
    "    print(f\"Numero de pasos totales: {pasos}\")\n"
   ]
  },
  {
   "cell_type": "code",
   "execution_count": 11,
   "metadata": {},
   "outputs": [
    {
     "name": "stdout",
     "output_type": "stream",
     "text": [
      "875 no encontrado\n",
      "Numero de pasos totales: 4\n"
     ]
    }
   ],
   "source": [
    "busqueda_binaria(lista=lista, numero=numero)"
   ]
  },
  {
   "cell_type": "code",
   "execution_count": null,
   "metadata": {},
   "outputs": [],
   "source": []
  }
 ],
 "metadata": {
  "kernelspec": {
   "display_name": "Python 3",
   "language": "python",
   "name": "python3"
  },
  "language_info": {
   "codemirror_mode": {
    "name": "ipython",
    "version": 3
   },
   "file_extension": ".py",
   "mimetype": "text/x-python",
   "name": "python",
   "nbconvert_exporter": "python",
   "pygments_lexer": "ipython3",
   "version": "3.7.7"
  }
 },
 "nbformat": 4,
 "nbformat_minor": 2
}
