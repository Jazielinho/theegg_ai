{
 "metadata": {
  "language_info": {
   "codemirror_mode": {
    "name": "ipython",
    "version": 3
   },
   "file_extension": ".py",
   "mimetype": "text/x-python",
   "name": "python",
   "nbconvert_exporter": "python",
   "pygments_lexer": "ipython3",
   "version": "3.7.6-final"
  },
  "orig_nbformat": 2,
  "kernelspec": {
   "name": "python3",
   "display_name": "Python 3.7.6 64-bit (conda)",
   "metadata": {
    "interpreter": {
     "hash": "08dd7e70ae9746e6f3129e58e5676a9ea2ca8f2f6b0939c9670da64b96b38771"
    }
   }
  }
 },
 "nbformat": 4,
 "nbformat_minor": 2,
 "cells": [
  {
   "cell_type": "code",
   "execution_count": 1,
   "metadata": {},
   "outputs": [
    {
     "output_type": "execute_result",
     "data": {
      "text/plain": [
       "'\\nCreated on 14 mar. 2021\\n@author: jazielinho\\n'"
      ]
     },
     "metadata": {},
     "execution_count": 1
    }
   ],
   "source": [
    "'''\n",
    "Created on 14 mar. 2021\n",
    "@author: jazielinho\n",
    "'''"
   ]
  },
  {
   "source": [
    "# Clase Persona"
   ],
   "cell_type": "markdown",
   "metadata": {}
  },
  {
   "cell_type": "code",
   "execution_count": 2,
   "metadata": {},
   "outputs": [],
   "source": [
    "class Persona(object):\n",
    "    ''' Clase Persona '''\n",
    "\n",
    "    mayor_edad = 18\n",
    "    dni_letters = \"TRWAGMYFPDXBNJZSQVHLCKE\"\n",
    "\n",
    "    def __init__(self, nombre: str = \"\", edad: int = 0, dni: str = \"\"):\n",
    "        ''' nombre: nombre de la persona\n",
    "            edad: edad de la persona\n",
    "            dni: dni de la persona\n",
    "        '''\n",
    "        self.nombre = nombre\n",
    "        self.edad = edad\n",
    "        self.dni = dni\n",
    "\n",
    "    @property\n",
    "    def nombre(self):\n",
    "        return self.__nombre\n",
    "\n",
    "    @nombre.setter\n",
    "    def nombre(self, nombre):\n",
    "        self.__nombre = str(nombre)\n",
    "\n",
    "    @property\n",
    "    def edad(self):\n",
    "        return self.__edad\n",
    "\n",
    "    @edad.setter\n",
    "    def edad(self, edad):\n",
    "        try:\n",
    "            edad = int(edad)\n",
    "            if edad < 0:\n",
    "                raise ValueError(f\"Edad: {edad} es menor a cero\")\n",
    "            self.__edad = edad\n",
    "        except Exception as e:\n",
    "            raise ValueError(f\"Error al guardar la edad: {edad}: {e}\")\n",
    "\n",
    "    @property\n",
    "    def dni(self):\n",
    "        return self.__dni\n",
    "\n",
    "    @dni.setter\n",
    "    def dni(self, dni):\n",
    "        try:\n",
    "            if len(dni) != 9:\n",
    "                raise ValueError(f\"DNI: {dni} incorrecto\")\n",
    "            letra = dni[8]\n",
    "            num = int(dni[:8])\n",
    "            if letra.upper() != self.dni_letters[num % 23]:\n",
    "                raise ValueError(f\"DNI: {dni} incorrecto\")\n",
    "            self.__dni = dni\n",
    "        except Exception as e:\n",
    "            raise ValueError(f\"Error al guardar el dni {dni}: {e}\")\n",
    "\n",
    "    def mostrar(self):\n",
    "        print(f\"Nombre: {self.__nombre}, edad: {self.__edad}, DNI: {self.__dni}\")\n",
    "\n",
    "    def es_mayor_edad(self):\n",
    "        if self.__edad >= self.mayor_edad:\n",
    "            print(\"Es mayor de edad\")\n",
    "        else:\n",
    "            print(\"No es mayor de edad\")"
   ]
  },
  {
   "cell_type": "code",
   "execution_count": 3,
   "metadata": {},
   "outputs": [
    {
     "output_type": "stream",
     "name": "stdout",
     "text": [
      "Nombre: a, edad: 18, DNI: 33277898A\nEs mayor de edad\n"
     ]
    }
   ],
   "source": [
    "persona_1 = Persona('a', 18, '33277898A')\n",
    "persona_1.mostrar()\n",
    "persona_1.es_mayor_edad()"
   ]
  },
  {
   "cell_type": "code",
   "execution_count": 4,
   "metadata": {},
   "outputs": [
    {
     "output_type": "stream",
     "name": "stdout",
     "text": [
      "Nombre: a, edad: 1, DNI: 33277898A\nNo es mayor de edad\n"
     ]
    }
   ],
   "source": [
    "persona_2 = Persona('a', '1', '33277898A')\n",
    "persona_2.mostrar()\n",
    "persona_2.es_mayor_edad()"
   ]
  },
  {
   "cell_type": "code",
   "execution_count": 5,
   "metadata": {},
   "outputs": [
    {
     "output_type": "error",
     "ename": "ValueError",
     "evalue": "Error al guardar la edad: a: invalid literal for int() with base 10: 'a'",
     "traceback": [
      "\u001b[1;31m---------------------------------------------------------------------------\u001b[0m",
      "\u001b[1;31mValueError\u001b[0m                                Traceback (most recent call last)",
      "\u001b[1;32m<ipython-input-2-55cb17b6843d>\u001b[0m in \u001b[0;36medad\u001b[1;34m(self, edad)\u001b[0m\n\u001b[0;32m     30\u001b[0m         \u001b[1;32mtry\u001b[0m\u001b[1;33m:\u001b[0m\u001b[1;33m\u001b[0m\u001b[1;33m\u001b[0m\u001b[0m\n\u001b[1;32m---> 31\u001b[1;33m             \u001b[0medad\u001b[0m \u001b[1;33m=\u001b[0m \u001b[0mint\u001b[0m\u001b[1;33m(\u001b[0m\u001b[0medad\u001b[0m\u001b[1;33m)\u001b[0m\u001b[1;33m\u001b[0m\u001b[1;33m\u001b[0m\u001b[0m\n\u001b[0m\u001b[0;32m     32\u001b[0m             \u001b[1;32mif\u001b[0m \u001b[0medad\u001b[0m \u001b[1;33m<\u001b[0m \u001b[1;36m0\u001b[0m\u001b[1;33m:\u001b[0m\u001b[1;33m\u001b[0m\u001b[1;33m\u001b[0m\u001b[0m\n",
      "\u001b[1;31mValueError\u001b[0m: invalid literal for int() with base 10: 'a'",
      "\nDuring handling of the above exception, another exception occurred:\n",
      "\u001b[1;31mValueError\u001b[0m                                Traceback (most recent call last)",
      "\u001b[1;32m<ipython-input-5-16137a5116c9>\u001b[0m in \u001b[0;36m<module>\u001b[1;34m\u001b[0m\n\u001b[1;32m----> 1\u001b[1;33m \u001b[0mpersona_2\u001b[0m \u001b[1;33m=\u001b[0m \u001b[0mPersona\u001b[0m\u001b[1;33m(\u001b[0m\u001b[1;34m'a'\u001b[0m\u001b[1;33m,\u001b[0m \u001b[1;34m'a'\u001b[0m\u001b[1;33m,\u001b[0m \u001b[1;34m'33277898A'\u001b[0m\u001b[1;33m)\u001b[0m\u001b[1;33m\u001b[0m\u001b[1;33m\u001b[0m\u001b[0m\n\u001b[0m\u001b[0;32m      2\u001b[0m \u001b[0mpersona_2\u001b[0m\u001b[1;33m.\u001b[0m\u001b[0mmostrar\u001b[0m\u001b[1;33m(\u001b[0m\u001b[1;33m)\u001b[0m\u001b[1;33m\u001b[0m\u001b[1;33m\u001b[0m\u001b[0m\n\u001b[0;32m      3\u001b[0m \u001b[0mpersona_2\u001b[0m\u001b[1;33m.\u001b[0m\u001b[0mes_mayor_edad\u001b[0m\u001b[1;33m(\u001b[0m\u001b[1;33m)\u001b[0m\u001b[1;33m\u001b[0m\u001b[1;33m\u001b[0m\u001b[0m\n",
      "\u001b[1;32m<ipython-input-2-55cb17b6843d>\u001b[0m in \u001b[0;36m__init__\u001b[1;34m(self, nombre, edad, dni)\u001b[0m\n\u001b[0;32m     11\u001b[0m         '''\n\u001b[0;32m     12\u001b[0m         \u001b[0mself\u001b[0m\u001b[1;33m.\u001b[0m\u001b[0mnombre\u001b[0m \u001b[1;33m=\u001b[0m \u001b[0mnombre\u001b[0m\u001b[1;33m\u001b[0m\u001b[1;33m\u001b[0m\u001b[0m\n\u001b[1;32m---> 13\u001b[1;33m         \u001b[0mself\u001b[0m\u001b[1;33m.\u001b[0m\u001b[0medad\u001b[0m \u001b[1;33m=\u001b[0m \u001b[0medad\u001b[0m\u001b[1;33m\u001b[0m\u001b[1;33m\u001b[0m\u001b[0m\n\u001b[0m\u001b[0;32m     14\u001b[0m         \u001b[0mself\u001b[0m\u001b[1;33m.\u001b[0m\u001b[0mdni\u001b[0m \u001b[1;33m=\u001b[0m \u001b[0mdni\u001b[0m\u001b[1;33m\u001b[0m\u001b[1;33m\u001b[0m\u001b[0m\n\u001b[0;32m     15\u001b[0m \u001b[1;33m\u001b[0m\u001b[0m\n",
      "\u001b[1;32m<ipython-input-2-55cb17b6843d>\u001b[0m in \u001b[0;36medad\u001b[1;34m(self, edad)\u001b[0m\n\u001b[0;32m     34\u001b[0m             \u001b[0mself\u001b[0m\u001b[1;33m.\u001b[0m\u001b[0m__edad\u001b[0m \u001b[1;33m=\u001b[0m \u001b[0medad\u001b[0m\u001b[1;33m\u001b[0m\u001b[1;33m\u001b[0m\u001b[0m\n\u001b[0;32m     35\u001b[0m         \u001b[1;32mexcept\u001b[0m \u001b[0mException\u001b[0m \u001b[1;32mas\u001b[0m \u001b[0me\u001b[0m\u001b[1;33m:\u001b[0m\u001b[1;33m\u001b[0m\u001b[1;33m\u001b[0m\u001b[0m\n\u001b[1;32m---> 36\u001b[1;33m             \u001b[1;32mraise\u001b[0m \u001b[0mValueError\u001b[0m\u001b[1;33m(\u001b[0m\u001b[1;34mf\"Error al guardar la edad: {edad}: {e}\"\u001b[0m\u001b[1;33m)\u001b[0m\u001b[1;33m\u001b[0m\u001b[1;33m\u001b[0m\u001b[0m\n\u001b[0m\u001b[0;32m     37\u001b[0m \u001b[1;33m\u001b[0m\u001b[0m\n\u001b[0;32m     38\u001b[0m     \u001b[1;33m@\u001b[0m\u001b[0mproperty\u001b[0m\u001b[1;33m\u001b[0m\u001b[1;33m\u001b[0m\u001b[0m\n",
      "\u001b[1;31mValueError\u001b[0m: Error al guardar la edad: a: invalid literal for int() with base 10: 'a'"
     ]
    }
   ],
   "source": [
    "persona_2 = Persona('a', 'a', '33277898A')\n",
    "persona_2.mostrar()\n",
    "persona_2.es_mayor_edad()"
   ]
  },
  {
   "source": [
    "# Clase Cuenta"
   ],
   "cell_type": "markdown",
   "metadata": {}
  },
  {
   "cell_type": "code",
   "execution_count": 6,
   "metadata": {},
   "outputs": [],
   "source": [
    "class Cuenta(object):\n",
    "    ''' Clase Cuenta '''\n",
    "\n",
    "    def __init__(self, titular: str = \"\", cantidad: float = 0):\n",
    "        self.titular = titular\n",
    "        self.cantidad = cantidad\n",
    "\n",
    "    @property\n",
    "    def titular(self):\n",
    "        return self.__titular\n",
    "\n",
    "    @titular.setter\n",
    "    def titular(self, titular):\n",
    "        self.__titular = str(titular)\n",
    "\n",
    "    @property\n",
    "    def cantidad(self):\n",
    "        return self.__cantidad\n",
    "\n",
    "    @cantidad.setter\n",
    "    def cantidad(self, cantidad):\n",
    "        try:\n",
    "            cantidad = float(cantidad)\n",
    "            self.__cantidad = cantidad\n",
    "        except Exception as e:\n",
    "            raise ValueError(f\"Error al guardar la cantidad: {cantidad}: {e}\")\n",
    "\n",
    "    def mostrar(self):\n",
    "        print(f\"Titular: {self.titular}, cantidad: {self.cantidad}\")\n",
    "\n",
    "    def ingresar(self, cantidad):\n",
    "        try:\n",
    "            self.cantidad = self.cantidad + cantidad\n",
    "        except Exception as e:\n",
    "            print(f\"No se ha podido ingresar cantidad {cantidad}: {e}\")\n",
    "\n",
    "    def retirar(self, cantidad):\n",
    "        self.cantidad = self.cantidad - cantidad"
   ]
  },
  {
   "cell_type": "code",
   "execution_count": 7,
   "metadata": {},
   "outputs": [
    {
     "output_type": "stream",
     "name": "stdout",
     "text": [
      "Titular: Juan, cantidad: 30.0\nTitular: Juan, cantidad: -20.0\n"
     ]
    }
   ],
   "source": [
    "cuenta = Cuenta('Juan', 10)\n",
    "cuenta.ingresar(20)\n",
    "cuenta.mostrar()\n",
    "cuenta.retirar(50)\n",
    "cuenta.mostrar()"
   ]
  },
  {
   "cell_type": "code",
   "execution_count": 8,
   "metadata": {},
   "outputs": [
    {
     "output_type": "error",
     "ename": "ValueError",
     "evalue": "Error al guardar la cantidad: r: could not convert string to float: 'r'",
     "traceback": [
      "\u001b[1;31m---------------------------------------------------------------------------\u001b[0m",
      "\u001b[1;31mValueError\u001b[0m                                Traceback (most recent call last)",
      "\u001b[1;32m<ipython-input-6-22612070dca9>\u001b[0m in \u001b[0;36mcantidad\u001b[1;34m(self, cantidad)\u001b[0m\n\u001b[0;32m     22\u001b[0m         \u001b[1;32mtry\u001b[0m\u001b[1;33m:\u001b[0m\u001b[1;33m\u001b[0m\u001b[1;33m\u001b[0m\u001b[0m\n\u001b[1;32m---> 23\u001b[1;33m             \u001b[0mcantidad\u001b[0m \u001b[1;33m=\u001b[0m \u001b[0mfloat\u001b[0m\u001b[1;33m(\u001b[0m\u001b[0mcantidad\u001b[0m\u001b[1;33m)\u001b[0m\u001b[1;33m\u001b[0m\u001b[1;33m\u001b[0m\u001b[0m\n\u001b[0m\u001b[0;32m     24\u001b[0m             \u001b[0mself\u001b[0m\u001b[1;33m.\u001b[0m\u001b[0m__cantidad\u001b[0m \u001b[1;33m=\u001b[0m \u001b[0mcantidad\u001b[0m\u001b[1;33m\u001b[0m\u001b[1;33m\u001b[0m\u001b[0m\n",
      "\u001b[1;31mValueError\u001b[0m: could not convert string to float: 'r'",
      "\nDuring handling of the above exception, another exception occurred:\n",
      "\u001b[1;31mValueError\u001b[0m                                Traceback (most recent call last)",
      "\u001b[1;32m<ipython-input-8-e71402d457d6>\u001b[0m in \u001b[0;36m<module>\u001b[1;34m\u001b[0m\n\u001b[1;32m----> 1\u001b[1;33m \u001b[0mcuenta\u001b[0m \u001b[1;33m=\u001b[0m \u001b[0mCuenta\u001b[0m\u001b[1;33m(\u001b[0m\u001b[1;34m'Juan'\u001b[0m\u001b[1;33m,\u001b[0m \u001b[1;34m'r'\u001b[0m\u001b[1;33m)\u001b[0m\u001b[1;33m\u001b[0m\u001b[1;33m\u001b[0m\u001b[0m\n\u001b[0m\u001b[0;32m      2\u001b[0m \u001b[0mcuenta\u001b[0m\u001b[1;33m.\u001b[0m\u001b[0mingresar\u001b[0m\u001b[1;33m(\u001b[0m\u001b[1;36m20\u001b[0m\u001b[1;33m)\u001b[0m\u001b[1;33m\u001b[0m\u001b[1;33m\u001b[0m\u001b[0m\n\u001b[0;32m      3\u001b[0m \u001b[0mcuenta\u001b[0m\u001b[1;33m.\u001b[0m\u001b[0mmostrar\u001b[0m\u001b[1;33m(\u001b[0m\u001b[1;33m)\u001b[0m\u001b[1;33m\u001b[0m\u001b[1;33m\u001b[0m\u001b[0m\n\u001b[0;32m      4\u001b[0m \u001b[0mcuenta\u001b[0m\u001b[1;33m.\u001b[0m\u001b[0mretirar\u001b[0m\u001b[1;33m(\u001b[0m\u001b[1;36m50\u001b[0m\u001b[1;33m)\u001b[0m\u001b[1;33m\u001b[0m\u001b[1;33m\u001b[0m\u001b[0m\n\u001b[0;32m      5\u001b[0m \u001b[0mcuenta\u001b[0m\u001b[1;33m.\u001b[0m\u001b[0mmostrar\u001b[0m\u001b[1;33m(\u001b[0m\u001b[1;33m)\u001b[0m\u001b[1;33m\u001b[0m\u001b[1;33m\u001b[0m\u001b[0m\n",
      "\u001b[1;32m<ipython-input-6-22612070dca9>\u001b[0m in \u001b[0;36m__init__\u001b[1;34m(self, titular, cantidad)\u001b[0m\n\u001b[0;32m      4\u001b[0m     \u001b[1;32mdef\u001b[0m \u001b[0m__init__\u001b[0m\u001b[1;33m(\u001b[0m\u001b[0mself\u001b[0m\u001b[1;33m,\u001b[0m \u001b[0mtitular\u001b[0m\u001b[1;33m:\u001b[0m \u001b[0mstr\u001b[0m \u001b[1;33m=\u001b[0m \u001b[1;34m\"\"\u001b[0m\u001b[1;33m,\u001b[0m \u001b[0mcantidad\u001b[0m\u001b[1;33m:\u001b[0m \u001b[0mfloat\u001b[0m \u001b[1;33m=\u001b[0m \u001b[1;36m0\u001b[0m\u001b[1;33m)\u001b[0m\u001b[1;33m:\u001b[0m\u001b[1;33m\u001b[0m\u001b[1;33m\u001b[0m\u001b[0m\n\u001b[0;32m      5\u001b[0m         \u001b[0mself\u001b[0m\u001b[1;33m.\u001b[0m\u001b[0mtitular\u001b[0m \u001b[1;33m=\u001b[0m \u001b[0mtitular\u001b[0m\u001b[1;33m\u001b[0m\u001b[1;33m\u001b[0m\u001b[0m\n\u001b[1;32m----> 6\u001b[1;33m         \u001b[0mself\u001b[0m\u001b[1;33m.\u001b[0m\u001b[0mcantidad\u001b[0m \u001b[1;33m=\u001b[0m \u001b[0mcantidad\u001b[0m\u001b[1;33m\u001b[0m\u001b[1;33m\u001b[0m\u001b[0m\n\u001b[0m\u001b[0;32m      7\u001b[0m \u001b[1;33m\u001b[0m\u001b[0m\n\u001b[0;32m      8\u001b[0m     \u001b[1;33m@\u001b[0m\u001b[0mproperty\u001b[0m\u001b[1;33m\u001b[0m\u001b[1;33m\u001b[0m\u001b[0m\n",
      "\u001b[1;32m<ipython-input-6-22612070dca9>\u001b[0m in \u001b[0;36mcantidad\u001b[1;34m(self, cantidad)\u001b[0m\n\u001b[0;32m     24\u001b[0m             \u001b[0mself\u001b[0m\u001b[1;33m.\u001b[0m\u001b[0m__cantidad\u001b[0m \u001b[1;33m=\u001b[0m \u001b[0mcantidad\u001b[0m\u001b[1;33m\u001b[0m\u001b[1;33m\u001b[0m\u001b[0m\n\u001b[0;32m     25\u001b[0m         \u001b[1;32mexcept\u001b[0m \u001b[0mException\u001b[0m \u001b[1;32mas\u001b[0m \u001b[0me\u001b[0m\u001b[1;33m:\u001b[0m\u001b[1;33m\u001b[0m\u001b[1;33m\u001b[0m\u001b[0m\n\u001b[1;32m---> 26\u001b[1;33m             \u001b[1;32mraise\u001b[0m \u001b[0mValueError\u001b[0m\u001b[1;33m(\u001b[0m\u001b[1;34mf\"Error al guardar la cantidad: {cantidad}: {e}\"\u001b[0m\u001b[1;33m)\u001b[0m\u001b[1;33m\u001b[0m\u001b[1;33m\u001b[0m\u001b[0m\n\u001b[0m\u001b[0;32m     27\u001b[0m \u001b[1;33m\u001b[0m\u001b[0m\n\u001b[0;32m     28\u001b[0m     \u001b[1;32mdef\u001b[0m \u001b[0mmostrar\u001b[0m\u001b[1;33m(\u001b[0m\u001b[0mself\u001b[0m\u001b[1;33m)\u001b[0m\u001b[1;33m:\u001b[0m\u001b[1;33m\u001b[0m\u001b[1;33m\u001b[0m\u001b[0m\n",
      "\u001b[1;31mValueError\u001b[0m: Error al guardar la cantidad: r: could not convert string to float: 'r'"
     ]
    }
   ],
   "source": [
    "cuenta = Cuenta('Juan', 'r')\n",
    "cuenta.ingresar(20)\n",
    "cuenta.mostrar()\n",
    "cuenta.retirar(50)\n",
    "cuenta.mostrar()"
   ]
  },
  {
   "cell_type": "code",
   "execution_count": 9,
   "metadata": {},
   "outputs": [
    {
     "output_type": "stream",
     "name": "stdout",
     "text": [
      "Titular: Juan, cantidad: 20.5\nTitular: Juan, cantidad: 15.5\n"
     ]
    }
   ],
   "source": [
    "cuenta = Cuenta('Juan', 0.5)\n",
    "cuenta.ingresar(20)\n",
    "cuenta.mostrar()\n",
    "cuenta.retirar(5)\n",
    "cuenta.mostrar()"
   ]
  }
 ]
}